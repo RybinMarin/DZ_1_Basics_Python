{
 "cells": [
  {
   "cell_type": "code",
   "execution_count": 20,
   "metadata": {},
   "outputs": [
    {
     "name": "stdout",
     "output_type": "stream",
     "text": [
      "Фраза 1 длиннее фразы 2\n"
     ]
    }
   ],
   "source": [
    "#Задание 1\n",
    "phrase_1 = 'Насколько проще было бы писать фразы, если бы не заказчики'\n",
    "phrase_2 = '640 Кб должно хватить для любых задач. Билл Гейтс (по легенде)'\n",
    "if phrase_1 > phrase_2:\n",
    "    print ('Фраза 1 длиннее фразы 2')"
   ]
  },
  {
   "cell_type": "code",
   "execution_count": 17,
   "metadata": {},
   "outputs": [
    {
     "name": "stdout",
     "output_type": "stream",
     "text": [
      "Фраза 2 длиннее фразы 1\n"
     ]
    }
   ],
   "source": [
    "phrase_1 = '640 Кб должно хватить для любых задач. Билл Гейтс (по легенде)'\n",
    "phrase_2 = 'Насколько проще было бы писать фразы, если бы не заказчики'\n",
    "if phrase_1 < phrase_2:\n",
    "    print ('Фраза 2 длиннее фразы 1')"
   ]
  },
  {
   "cell_type": "code",
   "execution_count": 18,
   "metadata": {},
   "outputs": [
    {
     "name": "stdout",
     "output_type": "stream",
     "text": [
      "Фразы равной длины\n"
     ]
    }
   ],
   "source": [
    "phrase_1 = 'Насколько проще было бы писать фразы, если бы не заказчики'\n",
    "phrase_2 = 'Насколько проще было бы писать фразы, если бы не заказчики'\n",
    "if phrase_1 == phrase_2:\n",
    "    print ('Фразы равной длины')"
   ]
  },
  {
   "cell_type": "code",
   "execution_count": 24,
   "metadata": {},
   "outputs": [
    {
     "name": "stdout",
     "output_type": "stream",
     "text": [
      "Введите год2018\n",
      "обычный год\n"
     ]
    }
   ],
   "source": [
    "# Задание 2\n",
    "year = int (input ('Введите год'))\n",
    "if year % 4 == 0:\n",
    "    print ('високосный год')\n",
    "elif year % 4 > 0:\n",
    "    print ('обычный год')"
   ]
  },
  {
   "cell_type": "code",
   "execution_count": 45,
   "metadata": {},
   "outputs": [
    {
     "name": "stdout",
     "output_type": "stream",
     "text": [
      "Месяц рожденияоктябрь\n",
      "Число рождения13\n",
      "весы\n"
     ]
    }
   ],
   "source": [
    "# Задание 3\n",
    "month = input('Месяц рождения')\n",
    "date = int(input('Число рождения'))\n",
    "\n",
    "if month == 'январь':\n",
    "    if 20 >=date >0:\n",
    "        print('козерог')\n",
    "    elif date > 20:\n",
    "        print('водолей')\n",
    "elif month == 'февраль':\n",
    "    if 20 >=date >0:\n",
    "        print('водолей')\n",
    "    elif date > 20:\n",
    "        print('рыбы')\n",
    "elif month == 'март':\n",
    "    if 20 >=date >0:\n",
    "        print('рыбы')\n",
    "    elif date > 20:\n",
    "        print('овен')\n",
    "elif month == 'апрель':\n",
    "    if 20 >=date >0:\n",
    "        print('овен')\n",
    "    elif date > 20:\n",
    "        print('телец')\n",
    "elif month == 'май':\n",
    "    if 20 >=date >0:\n",
    "        print('телец')\n",
    "    elif date > 20:\n",
    "        print('близнецы')\n",
    "elif month == 'июнь':\n",
    "    if 21 >=date >0:\n",
    "        print('близнецы')\n",
    "    elif date > 21:\n",
    "        print('рак')\n",
    "elif month == 'июль':\n",
    "    if 22 >=date >0:\n",
    "        print('рак')\n",
    "    elif date > 22:\n",
    "        print('лев')  \n",
    "elif month == 'август':\n",
    "    if 23 >=date >0:\n",
    "        print('лев')\n",
    "    elif date > 23:\n",
    "        print('дева')\n",
    "elif month == 'сентябрь':\n",
    "    if 23 >=date >0:\n",
    "        print('дева')\n",
    "    elif date > 23:\n",
    "        print('весы')\n",
    "elif month == 'октябрь':\n",
    "    if 23 >=date >0:\n",
    "        print('весы')\n",
    "    elif date > 23:\n",
    "        print('скорпион')\n",
    "elif month == 'ноябрь':\n",
    "    if 22 >=date >0:\n",
    "        print('скорпион')\n",
    "    elif date > 22:\n",
    "        print('стрелец')\n",
    "elif month == 'декабрь':\n",
    "    if 21 >=date >0:\n",
    "        print('стрелец')\n",
    "    elif date > 21:\n",
    "        print('козерог')"
   ]
  },
  {
   "cell_type": "code",
   "execution_count": 52,
   "metadata": {},
   "outputs": [
    {
     "name": "stdout",
     "output_type": "stream",
     "text": [
      "Ищите упаковку для лыж\n"
     ]
    }
   ],
   "source": [
    "# Задание 3\n",
    "\n",
    "width = 10\n",
    "length = 205\n",
    "height = 5\n",
    "\n",
    "if width < 15 and height < 15 and length < 15:\n",
    "    print ('Коробка № 1')\n",
    "elif width < 50 and height < 50 and length < 50:\n",
    "    print ('коробка № 2')\n",
    "elif length > 200:\n",
    "    print ('Ищите упаковку для лыж')\n",
    "else: \n",
    "    print ('Стандартная коробка № 3')"
   ]
  },
  {
   "cell_type": "code",
   "execution_count": null,
   "metadata": {},
   "outputs": [],
   "source": []
  }
 ],
 "metadata": {
  "kernelspec": {
   "display_name": "Python 3",
   "language": "python",
   "name": "python3"
  },
  "language_info": {
   "codemirror_mode": {
    "name": "ipython",
    "version": 3
   },
   "file_extension": ".py",
   "mimetype": "text/x-python",
   "name": "python",
   "nbconvert_exporter": "python",
   "pygments_lexer": "ipython3",
   "version": "3.8.5"
  }
 },
 "nbformat": 4,
 "nbformat_minor": 4
}
